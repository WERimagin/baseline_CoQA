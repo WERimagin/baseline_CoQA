{
 "cells": [
  {
   "cell_type": "code",
   "execution_count": 4,
   "metadata": {},
   "outputs": [],
   "source": [
    "import argparse\n",
    "import json\n",
    "import re\n",
    "import time\n",
    "import string\n",
    "\n",
    "from nltk.tokenize import word_tokenize,sent_tokenize\n",
    "\n",
    "from pycorenlp import StanfordCoreNLP\n",
    "nlp = StanfordCoreNLP('http://localhost:9000')\n",
    "\n",
    "UNK = 'unknown'\n",
    "\n",
    "def _str(s):\n",
    "    \"\"\" Convert PTB tokens to normal tokens \"\"\"\n",
    "    if (s.lower() == '-lrb-'):\n",
    "        s = '('\n",
    "    elif (s.lower() == '-rrb-'):\n",
    "        s = ')'\n",
    "    elif (s.lower() == '-lsb-'):\n",
    "        s = '['\n",
    "    elif (s.lower() == '-rsb-'):\n",
    "        s = ']'\n",
    "    elif (s.lower() == '-lcb-'):\n",
    "        s = '{'\n",
    "    elif (s.lower() == '-rcb-'):\n",
    "        s = '}'\n",
    "    return s\n",
    "\n",
    "def process(text):\n",
    "    output = {'word': [],\n",
    "              # 'lemma': [],\n",
    "              # 'pos': [],\n",
    "              # 'ner': [],\n",
    "              'offsets': []}\n",
    "    text_split=word_tokenize(text)\n",
    "    position=0\n",
    "    for t in text_split:\n",
    "        start=position+text[position:].find(t)\n",
    "        end=start+len(t)\n",
    "        output['word'].append(_str(t))\n",
    "        output['offsets'].append((start, end))\n",
    "        position=end\n",
    "        print(output[\"offsets\"][-1])\n",
    "\n",
    "    return output\n",
    "\n",
    "def process2(text):\n",
    "    paragraph = nlp.annotate(text, properties={\n",
    "                             'annotators': 'tokenize, ssplit',\n",
    "                             'outputFormat': 'json',\n",
    "                             'ssplit.newlineIsSentenceBreak': 'two'})\n",
    "\n",
    "    output = {'word': [],\n",
    "              # 'lemma': [],\n",
    "              # 'pos': [],\n",
    "              # 'ner': [],\n",
    "              'offsets': []}\n",
    "\n",
    "    for sent in paragraph['sentences']:\n",
    "        for token in sent['tokens']:\n",
    "            output['word'].append(_str(token['word']))\n",
    "            # output['lemma'].append(_str(token['lemma']))\n",
    "            # output['pos'].append(token['pos'])\n",
    "            # output['ner'].append(token['ner'])\n",
    "            output['offsets'].append((token['characterOffsetBegin'], token['characterOffsetEnd']))\n",
    "            print(output[\"offsets\"][-1])\n",
    "    return output"
   ]
  },
  {
   "cell_type": "code",
   "execution_count": 5,
   "metadata": {},
   "outputs": [
    {
     "name": "stdout",
     "output_type": "stream",
     "text": [
      "(0, 1)\n",
      "(2, 4)\n",
      "(5, 6)\n",
      "(7, 10)\n",
      "(10, 11)\n",
      "(12, 14)\n",
      "(15, 18)\n",
      "(19, 23)\n",
      "(24, 27)\n",
      "(27, 28)\n",
      "{'word': ['I', 'am', 'a', 'dog', '.', 'Do', 'you', 'know', 'him', '?'], 'offsets': [(0, 1), (2, 4), (5, 6), (7, 10), (10, 11), (12, 14), (15, 18), (19, 23), (24, 27), (27, 28)]}\n"
     ]
    }
   ],
   "source": [
    "print(process(\"I am a dog. Do you know him?\"))"
   ]
  },
  {
   "cell_type": "code",
   "execution_count": 6,
   "metadata": {},
   "outputs": [
    {
     "name": "stdout",
     "output_type": "stream",
     "text": [
      "(0, 1)\n",
      "(2, 4)\n",
      "(5, 6)\n",
      "(7, 10)\n",
      "(10, 11)\n",
      "(12, 14)\n",
      "(15, 18)\n",
      "(19, 23)\n",
      "(24, 27)\n",
      "(27, 28)\n",
      "{'word': ['I', 'am', 'a', 'dog', '.', 'Do', 'you', 'know', 'him', '?'], 'offsets': [(0, 1), (2, 4), (5, 6), (7, 10), (10, 11), (12, 14), (15, 18), (19, 23), (24, 27), (27, 28)]}\n"
     ]
    }
   ],
   "source": [
    "print(process2(\"I am a dog. Do you know him?\"))"
   ]
  }
 ],
 "metadata": {
  "kernelspec": {
   "display_name": "Python 3",
   "language": "python",
   "name": "python3"
  },
  "language_info": {
   "codemirror_mode": {
    "name": "ipython",
    "version": 3
   },
   "file_extension": ".py",
   "mimetype": "text/x-python",
   "name": "python",
   "nbconvert_exporter": "python",
   "pygments_lexer": "ipython3",
   "version": "3.6.5"
  }
 },
 "nbformat": 4,
 "nbformat_minor": 2
}
